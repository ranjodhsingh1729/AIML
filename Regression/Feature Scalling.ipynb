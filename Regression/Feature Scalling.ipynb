{
 "cells": [
  {
   "cell_type": "markdown",
   "metadata": {},
   "source": [
    "**Multiple Linear Regression With Vectorization**"
   ]
  },
  {
   "cell_type": "code",
   "execution_count": 1,
   "metadata": {},
   "outputs": [],
   "source": [
    "import copy\n",
    "import math\n",
    "import numpy as np\n",
    "import pandas as pd\n",
    "from prettytable import PrettyTable\n",
    "import matplotlib.pyplot as plt"
   ]
  },
  {
   "cell_type": "code",
   "execution_count": 4,
   "metadata": {},
   "outputs": [
    {
     "data": {
      "text/html": [
       "<div>\n",
       "<style scoped>\n",
       "    .dataframe tbody tr th:only-of-type {\n",
       "        vertical-align: middle;\n",
       "    }\n",
       "\n",
       "    .dataframe tbody tr th {\n",
       "        vertical-align: top;\n",
       "    }\n",
       "\n",
       "    .dataframe thead th {\n",
       "        text-align: right;\n",
       "    }\n",
       "</style>\n",
       "<table border=\"1\" class=\"dataframe\">\n",
       "  <thead>\n",
       "    <tr style=\"text-align: right;\">\n",
       "      <th></th>\n",
       "      <th>case</th>\n",
       "      <th>site</th>\n",
       "      <th>Pop</th>\n",
       "      <th>sex</th>\n",
       "      <th>age</th>\n",
       "      <th>hdlngth</th>\n",
       "      <th>skullw</th>\n",
       "      <th>totlngth</th>\n",
       "      <th>taill</th>\n",
       "      <th>footlgth</th>\n",
       "      <th>earconch</th>\n",
       "      <th>eye</th>\n",
       "      <th>chest</th>\n",
       "      <th>belly</th>\n",
       "    </tr>\n",
       "  </thead>\n",
       "  <tbody>\n",
       "    <tr>\n",
       "      <th>0</th>\n",
       "      <td>1</td>\n",
       "      <td>1</td>\n",
       "      <td>Vic</td>\n",
       "      <td>m</td>\n",
       "      <td>8.0</td>\n",
       "      <td>94.1</td>\n",
       "      <td>60.4</td>\n",
       "      <td>89.0</td>\n",
       "      <td>36.0</td>\n",
       "      <td>74.5</td>\n",
       "      <td>54.5</td>\n",
       "      <td>15.2</td>\n",
       "      <td>28.0</td>\n",
       "      <td>36.0</td>\n",
       "    </tr>\n",
       "    <tr>\n",
       "      <th>1</th>\n",
       "      <td>2</td>\n",
       "      <td>1</td>\n",
       "      <td>Vic</td>\n",
       "      <td>f</td>\n",
       "      <td>6.0</td>\n",
       "      <td>92.5</td>\n",
       "      <td>57.6</td>\n",
       "      <td>91.5</td>\n",
       "      <td>36.5</td>\n",
       "      <td>72.5</td>\n",
       "      <td>51.2</td>\n",
       "      <td>16.0</td>\n",
       "      <td>28.5</td>\n",
       "      <td>33.0</td>\n",
       "    </tr>\n",
       "    <tr>\n",
       "      <th>2</th>\n",
       "      <td>3</td>\n",
       "      <td>1</td>\n",
       "      <td>Vic</td>\n",
       "      <td>f</td>\n",
       "      <td>6.0</td>\n",
       "      <td>94.0</td>\n",
       "      <td>60.0</td>\n",
       "      <td>95.5</td>\n",
       "      <td>39.0</td>\n",
       "      <td>75.4</td>\n",
       "      <td>51.9</td>\n",
       "      <td>15.5</td>\n",
       "      <td>30.0</td>\n",
       "      <td>34.0</td>\n",
       "    </tr>\n",
       "    <tr>\n",
       "      <th>3</th>\n",
       "      <td>4</td>\n",
       "      <td>1</td>\n",
       "      <td>Vic</td>\n",
       "      <td>f</td>\n",
       "      <td>6.0</td>\n",
       "      <td>93.2</td>\n",
       "      <td>57.1</td>\n",
       "      <td>92.0</td>\n",
       "      <td>38.0</td>\n",
       "      <td>76.1</td>\n",
       "      <td>52.2</td>\n",
       "      <td>15.2</td>\n",
       "      <td>28.0</td>\n",
       "      <td>34.0</td>\n",
       "    </tr>\n",
       "    <tr>\n",
       "      <th>4</th>\n",
       "      <td>5</td>\n",
       "      <td>1</td>\n",
       "      <td>Vic</td>\n",
       "      <td>f</td>\n",
       "      <td>2.0</td>\n",
       "      <td>91.5</td>\n",
       "      <td>56.3</td>\n",
       "      <td>85.5</td>\n",
       "      <td>36.0</td>\n",
       "      <td>71.0</td>\n",
       "      <td>53.2</td>\n",
       "      <td>15.1</td>\n",
       "      <td>28.5</td>\n",
       "      <td>33.0</td>\n",
       "    </tr>\n",
       "  </tbody>\n",
       "</table>\n",
       "</div>"
      ],
      "text/plain": [
       "   case  site  Pop sex  age  hdlngth  skullw  totlngth  taill  footlgth  \\\n",
       "0     1     1  Vic   m  8.0     94.1    60.4      89.0   36.0      74.5   \n",
       "1     2     1  Vic   f  6.0     92.5    57.6      91.5   36.5      72.5   \n",
       "2     3     1  Vic   f  6.0     94.0    60.0      95.5   39.0      75.4   \n",
       "3     4     1  Vic   f  6.0     93.2    57.1      92.0   38.0      76.1   \n",
       "4     5     1  Vic   f  2.0     91.5    56.3      85.5   36.0      71.0   \n",
       "\n",
       "   earconch   eye  chest  belly  \n",
       "0      54.5  15.2   28.0   36.0  \n",
       "1      51.2  16.0   28.5   33.0  \n",
       "2      51.9  15.5   30.0   34.0  \n",
       "3      52.2  15.2   28.0   34.0  \n",
       "4      53.2  15.1   28.5   33.0  "
      ]
     },
     "execution_count": 4,
     "metadata": {},
     "output_type": "execute_result"
    }
   ],
   "source": [
    "df = pd.read_csv(\"./Datasets/possum.csv\")\n",
    "df = df.dropna().reset_index(drop=True)\n",
    "df.head()"
   ]
  },
  {
   "cell_type": "code",
   "execution_count": 5,
   "metadata": {},
   "outputs": [],
   "source": [
    "X = df[df.columns[5:]]\n",
    "Y = df[df.columns[4]]\n",
    "\n",
    "split = math.floor(0.9*X.shape[0])\n",
    "\n",
    "x = X[split:].to_numpy()\n",
    "y = Y[split:].to_numpy()\n",
    "X = X[:split].to_numpy()\n",
    "Y = Y[:split].to_numpy()"
   ]
  },
  {
   "cell_type": "code",
   "execution_count": 6,
   "metadata": {},
   "outputs": [],
   "source": [
    "\"\"\"\n",
    "Zscore normalization: (xi - mu) / sigma.\n",
    "\"\"\"\n",
    "def scale(xi, mu, sigma):\n",
    "    return (xi-mu)/sigma\n",
    "\n",
    "def normalize(nparr):\n",
    "    mu = nparr.mean(axis=0)\n",
    "    sigma = nparr.std(axis=0)\n",
    "    return mu, sigma, (nparr-mu)/sigma"
   ]
  },
  {
   "cell_type": "code",
   "execution_count": 7,
   "metadata": {},
   "outputs": [],
   "source": [
    "\"\"\"f(w, b, x) = dot(w, x) + b\"\"\"\n",
    "def f(w, b, x):\n",
    "    return np.dot(w, x) + b\n",
    "\n",
    "\"\"\"Squared Error Cost Function\"\"\"\n",
    "def j(w, b, X, Y):\n",
    "    cost = 0\n",
    "    n =  X.shape[0]\n",
    "    for i in range(n):\n",
    "        cost += (f(w, b, X[i]) - Y[i])**2\n",
    "    return cost/(2*n)"
   ]
  },
  {
   "cell_type": "code",
   "execution_count": 8,
   "metadata": {},
   "outputs": [],
   "source": [
    "\"\"\"Gradient Calculator\"\"\"\n",
    "def gradient(w, b, X, Y):\n",
    "    n, m = X.shape\n",
    "    dj_dw, dj_db = np.zeros(m), 0\n",
    "    for i in range(n):\n",
    "        err = f(w, b, X[i]) - Y[i]\n",
    "        for j in range(m):\n",
    "            dj_dw[j] += err*X[i, j]\n",
    "        dj_db += err\n",
    "    \n",
    "    dj_dw /= n\n",
    "    dj_db /= n\n",
    "\n",
    "    return dj_dw, dj_db\n",
    "\n",
    "\"Gradient Descent Algorithm\"\n",
    "def gradient_descent(a, X, Y, epsilon=1e-6, maxiter=1000000):\n",
    "    n, m = X.shape\n",
    "\n",
    "    w, b = np.zeros(m), 0\n",
    "    prev_cost = j(w, b, X, Y)\n",
    "    cost_hist = [prev_cost, ]\n",
    "    format = '{:10} {:10}'\n",
    "    print(format.format(\"Iteration\", \"Cost\"))\n",
    "    for i in range(maxiter):\n",
    "        dj_dw, dj_db = gradient(w, b, X, Y)\n",
    "\n",
    "        w -= a*dj_dw\n",
    "        b -= a*dj_db\n",
    "\n",
    "\n",
    "        cost = j(w, b, X, Y)\n",
    "\n",
    "        if (i % 1000 == 0):\n",
    "            print(format.format(i, cost))\n",
    "            cost_hist.append(cost)\n",
    "\n",
    "        if ((prev_cost - cost) < epsilon):\n",
    "            break\n",
    "        prev_cost = cost\n",
    "\n",
    "\n",
    "    return (w, b), cost_hist"
   ]
  },
  {
   "cell_type": "code",
   "execution_count": 9,
   "metadata": {},
   "outputs": [
    {
     "name": "stdout",
     "output_type": "stream",
     "text": [
      "Iteration  Cost      \n",
      "         0 8.754472117778931\n",
      "      1000 1.761275795677278\n",
      "      2000 1.7592144899066553\n",
      "      3000 1.7572018306642891\n",
      "      4000 1.755235893279677\n",
      "      5000 1.7533148453750975\n",
      "      6000 1.7514369422195257\n",
      "      7000 1.7496005223190114\n",
      "      8000 1.7478040032315072\n",
      "      9000 1.746045877594626\n",
      "     10000 1.744324709355528\n",
      "     11000 1.7426391301925952\n",
      "     12000 1.7409878361190885\n",
      "     13000 1.7393695842595507\n",
      "     14000 1.7377831897900977\n",
      "     15000 1.7362275230342596\n",
      "     16000 1.7347015067064393\n",
      "     17000 1.733204113295446\n",
      "     18000 1.7317343625809574\n",
      "     19000 1.7302913192761509\n",
      "     20000 1.7288740907900522\n",
      "     21000 1.7274818251034874\n",
      "     22000 1.7261137087528677\n",
      "     23000 1.724768964916298\n",
      "     24000 1.7234468515967778\n",
      "     25000 1.7221466598975625\n",
      "     26000 1.7208677123849914\n",
      "     27000 1.7196093615342856\n",
      "     28000 1.7183709882541371\n",
      "     29000 1.71715200048603\n",
      "     30000 1.715951831874508\n",
      "     31000 1.7147699405047745\n",
      "     32000 1.7136058077041607\n",
      "     33000 1.712458936904266\n",
      "     34000 1.7113288525606094\n",
      "     35000 1.7102150991269245\n",
      "     36000 1.709117240081265\n",
      "     37000 1.7080348570013222\n",
      "     38000 1.7069675486864146\n",
      "     39000 1.7059149303237844\n",
      "     40000 1.7048766326969642\n",
      "     41000 1.7038523014340303\n",
      "     42000 1.7028415962937582\n",
      "w = array([ 0.01098705,  0.01416039,  0.00929831, -0.003639  , -0.00786846,\n",
      "       -0.00603691,  0.01008151,  0.02208453,  0.04362613])\n",
      "b = np.float64(-0.0006586115437517333)\n"
     ]
    }
   ],
   "source": [
    "(w, b), cost_hist = gradient_descent(1e-6, X, Y)\n",
    "\n",
    "print(f\"{w = }\")\n",
    "print(f\"{b = }\")"
   ]
  },
  {
   "cell_type": "code",
   "execution_count": 10,
   "metadata": {},
   "outputs": [
    {
     "name": "stdout",
     "output_type": "stream",
     "text": [
      "Iteration  Cost      \n",
      "         0 9.177453440832409\n",
      "      1000 2.5044977075198553\n",
      "      2000 1.6268350838726178\n",
      "      3000 1.5016874452931483\n",
      "      4000 1.4807613282227854\n",
      "      5000 1.475215312571281\n",
      "      6000 1.4725235818791684\n",
      "      7000 1.4707342294810253\n",
      "      8000 1.4694321342096137\n",
      "wn = array([ 0.13833249, -0.00467534, -0.06611841,  0.17250718, -0.23207028,\n",
      "        0.36486014,  0.35886242,  0.25914034,  0.41826306])\n",
      "bn = np.float64(3.8324602325375756)\n"
     ]
    }
   ],
   "source": [
    "mu, sigma, X_norm = normalize(X)\n",
    "(wn, bn), J_histn = gradient_descent(1e-3, X_norm, Y)\n",
    "\n",
    "print(f\"{wn = }\")\n",
    "print(f\"{bn = }\")"
   ]
  },
  {
   "cell_type": "code",
   "execution_count": 11,
   "metadata": {},
   "outputs": [
    {
     "data": {
      "image/png": "[encoded data removed]",
      "text/plain": [
       "<Figure size 640x480 with 1 Axes>"
      ]
     },
     "metadata": {},
     "output_type": "display_data"
    }
   ],
   "source": [
    "plt.plot(range(1, len(cost_hist)+1), cost_hist, c=\"r\")\n",
    "plt.ylim(1.4, 2)\n",
    "plt.title(\"Cost Vs Iterations\")\n",
    "plt.xlabel(\"No of Iterations\")\n",
    "plt.ylabel(\"Cost\")\n",
    "plt.show()"
   ]
  },
  {
   "cell_type": "code",
   "execution_count": 12,
   "metadata": {},
   "outputs": [
    {
     "data": {
      "image/png": "[encoded data removed]",
      "text/plain": [
       "<Figure size 640x480 with 1 Axes>"
      ]
     },
     "metadata": {},
     "output_type": "display_data"
    }
   ],
   "source": [
    "plt.plot(range(1, len(J_histn)+1), J_histn, c=\"r\")\n",
    "plt.ylim(1.4, 2)\n",
    "plt.title(\"Cost Vs Iterations\")\n",
    "plt.xlabel(\"No of Iterations\")\n",
    "plt.ylabel(\"Cost\")\n",
    "plt.show()"
   ]
  },
  {
   "cell_type": "code",
   "execution_count": 14,
   "metadata": {},
   "outputs": [
    {
     "name": "stdout",
     "output_type": "stream",
     "text": [
      "1.413926364664703\n",
      "1.5986502591854335\n"
     ]
    }
   ],
   "source": [
    "print(j(w, b, x, y))\n",
    "print(j(wn, bn, scale(x, mu, sigma), y))"
   ]
  }
 ],
 "metadata": {
  "kernelspec": {
   "display_name": "venv",
   "language": "python",
   "name": "python3"
  },
  "language_info": {
   "codemirror_mode": {
    "name": "ipython",
    "version": 3
   },
   "file_extension": ".py",
   "mimetype": "text/x-python",
   "name": "python",
   "nbconvert_exporter": "python",
   "pygments_lexer": "ipython3",
   "version": "3.12.3"
  }
 },
 "nbformat": 4,
 "nbformat_minor": 2
}
