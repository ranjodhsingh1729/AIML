{
 "cells": [
  {
   "cell_type": "markdown",
   "metadata": {},
   "source": [
    "**Multiple Linear Regression**"
   ]
  },
  {
   "cell_type": "code",
   "execution_count": 1,
   "metadata": {},
   "outputs": [],
   "source": [
    "import numpy as np\n",
    "import pandas as pd\n",
    "import matplotlib.pyplot as plt"
   ]
  },
  {
   "cell_type": "code",
   "execution_count": 2,
   "metadata": {},
   "outputs": [],
   "source": [
    "\"\"\"Returns function f(x) = w1x1 + w2x2 + ... wnxn + b\"\"\"\n",
    "def get_f(weights, bias):\n",
    "    def f(features):\n",
    "        sum = 0\n",
    "        for w, x in zip(weights, features):\n",
    "            sum += w*x\n",
    "        return sum+bias\n",
    "    \n",
    "    return f\n",
    "\n",
    "\"\"\"Squared Error Cost Function J.\"\"\"\n",
    "def cost(f, inp, out):\n",
    "    assert len(inp) == len(out) != 0\n",
    "\n",
    "    sum = 0\n",
    "    n = len(inp)\n",
    "    for i in range(n):\n",
    "        sum += (f(inp[i]) - out[i])**2\n",
    "    return sum/(2*n)"
   ]
  },
  {
   "cell_type": "code",
   "execution_count": 3,
   "metadata": {},
   "outputs": [],
   "source": [
    "\"\"\"Cost History Callback Function\"\"\"\n",
    "Cost_Hist = [[],[]]\n",
    "def cost_hist(itr, params, inp, out):\n",
    "    f = get_f(params[:-1], params[-1])\n",
    "    Cost_Hist[0].append(itr)\n",
    "    Cost_Hist[1].append(cost(f, inp, out))\n",
    "\n",
    "\"\"\"returns gradient values\"\"\"\n",
    "def gradient(f, inp, out):\n",
    "    assert len(inp) == len(out) != 0\n",
    "    \n",
    "    n = len(inp)\n",
    "    m = len(inp[0])\n",
    "    derivative = [0 for i in range(m)]\n",
    "    for i in range(n):\n",
    "        diff = f(inp[i])-out[i]\n",
    "        for j in range(m-1):\n",
    "            derivative[j] += diff*inp[i][j]\n",
    "        derivative[m-1] = diff\n",
    "    \n",
    "    for j in range(m):\n",
    "        derivative[j] /= n\n",
    "    return derivative\n",
    "\n",
    "\n",
    "\"\"\"Gradient Descent Implementation\"\"\"\n",
    "def gradient_descent(a, get_f, inp, out, cost_hist, reltol= 1e-5, maxiter=10000):\n",
    "    assert len(inp) == len(out) != 0\n",
    "\n",
    "    n = len(inp)\n",
    "    m = len(inp[0])\n",
    "    params = [1 for i in range(m)]\n",
    "    for i in range(maxiter):\n",
    "        f = get_f(params[:-1], params[-1])\n",
    "        derivatives = gradient(f, inp, out)\n",
    "\n",
    "        for j in range(m):\n",
    "            params[j] -= a*derivatives[j]\n",
    "\n",
    "        if (i % (maxiter / 100) == 0):\n",
    "            cost_hist(i, params, inp, out)\n",
    "        \n",
    "    return params"
   ]
  },
  {
   "cell_type": "code",
   "execution_count": 4,
   "metadata": {},
   "outputs": [],
   "source": [
    "dataset = pd.read_csv(\"./Datasets/possum.csv\").dropna().reset_index()\n",
    "\n",
    "out = [float(i) for i in dataset[\"age\"]]\n",
    "dataset = dataset.drop(columns=[\"index\", \"sex\", \"age\", \"case\", \"site\", \"Pop\"])\n",
    "\n",
    "inp = []\n",
    "for i in range(len(dataset)):\n",
    "    tmp = []\n",
    "    for j in dataset:\n",
    "        tmp.append(float(dataset[j][i]))\n",
    "    inp.append(tmp)"
   ]
  },
  {
   "cell_type": "code",
   "execution_count": 5,
   "metadata": {},
   "outputs": [
    {
     "name": "stdout",
     "output_type": "stream",
     "text": [
      "2.6565340938350026\n"
     ]
    }
   ],
   "source": [
    "Cost_Hist = [[],[]]\n",
    "params = gradient_descent(0.000001, get_f, inp, out, cost_hist, maxiter=10000)\n",
    "f = get_f(params[:-1], params[-1])\n",
    "print(cost(f, inp, out))\n"
   ]
  },
  {
   "cell_type": "code",
   "execution_count": 6,
   "metadata": {},
   "outputs": [
    {
     "data": {
      "image/png": "[encoded data removed]",
      "text/plain": [
       "<Figure size 640x480 with 1 Axes>"
      ]
     },
     "metadata": {},
     "output_type": "display_data"
    }
   ],
   "source": [
    "plt.plot(Cost_Hist[0], Cost_Hist[1])\n",
    "plt.title(\"Iteration Vs Cost\")\n",
    "plt.xlabel(\"Iterations\")\n",
    "plt.ylabel(\"Cost\")\n",
    "plt.show()"
   ]
  },
  {
   "cell_type": "code",
   "execution_count": null,
   "metadata": {},
   "outputs": [],
   "source": []
  }
 ],
 "metadata": {
  "kernelspec": {
   "display_name": "venv",
   "language": "python",
   "name": "python3"
  },
  "language_info": {
   "codemirror_mode": {
    "name": "ipython",
    "version": 3
   },
   "file_extension": ".py",
   "mimetype": "text/x-python",
   "name": "python",
   "nbconvert_exporter": "python",
   "pygments_lexer": "ipython3",
   "version": "3.12.3"
  }
 },
 "nbformat": 4,
 "nbformat_minor": 2
}
